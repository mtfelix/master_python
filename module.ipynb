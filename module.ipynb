{
 "cells": [
  {
   "cell_type": "markdown",
   "metadata": {},
   "source": [
    "总结今天这节课，我为你讲述了如何使用 Python 来构建模块化和大型工程。\n",
    "这里需要强调几点：\n",
    "- 通过绝对路径和相对路径，我们可以 import 模块；\n",
    "- 在大型工程中模块化非常重要，模块的索引要通过绝对路径来做，而绝对路径从程序的根目录开始；\n",
    "- 记着巧用if \\_\\_name\\_\\_ == '\\_\\_main\\_\\_'来避开 import 时执行。"
   ]
  }
 ],
 "metadata": {
  "language_info": {
   "name": "python"
  },
  "orig_nbformat": 4
 },
 "nbformat": 4,
 "nbformat_minor": 2
}
